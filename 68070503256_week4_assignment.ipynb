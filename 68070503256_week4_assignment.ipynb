{
 "cells": [
  {
   "cell_type": "markdown",
   "id": "10b8af75",
   "metadata": {},
   "source": []
  }
 ],
 "metadata": {
  "language_info": {
   "name": "python"
  }
 },
 "nbformat": 4,
 "nbformat_minor": 5
}
