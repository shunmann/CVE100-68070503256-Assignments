{
 "cells": [
  {
   "cell_type": "markdown",
   "id": "10b8af75",
   "metadata": {},
   "source": [
    "# Even and Odd\n",
    "iterate for loop from number 1 to n:\n",
    "if the number is even, print \"[number] is even\"\n",
    "otherwise, print \"[number] is odd:\n",
    "\n",
    "if n = 5 ==> expected output\n",
    "0 is even.\n",
    "1 is odd.\n",
    "2 is even.\n",
    "3 is odd.\n",
    "4 is even."
   ]
  },
  {
   "cell_type": "code",
   "execution_count": 1,
   "id": "1f29de2f",
   "metadata": {},
   "outputs": [
    {
     "name": "stdout",
     "output_type": "stream",
     "text": [
      "1 is odd\n",
      "2 is even\n",
      "3 is odd\n",
      "4 is even\n",
      "5 is odd\n",
      "6 is even\n",
      "7 is odd\n",
      "8 is even\n",
      "9 is odd\n"
     ]
    }
   ],
   "source": [
    "n = 10\n",
    "for i in range(1,n):\n",
    "    if i%2==0:\n",
    "        print(i, \"is even\")\n",
    "    else:\n",
    "        print(i, \"is odd\")\n"
   ]
  },
  {
   "cell_type": "markdown",
   "id": "76bc0ae5",
   "metadata": {},
   "source": [
    "Division\n",
    "- define n = 100\n",
    "- Use loop fron 1 to 10 (the value of looping variable is 1 to 10)\n",
    "- if the result of quotient (number/i) is greater than 5 => print (\"The result is large\")\n",
    "- if the result of quotient (number/i) is exactly equal to 6 ==> skip the loop with continue\n",
    "- otherwise, print the actual quotient ==> print (\"quotient=\", quotient)"
   ]
  },
  {
   "cell_type": "code",
   "execution_count": 9,
   "id": "2bc34c11",
   "metadata": {},
   "outputs": [
    {
     "name": "stdout",
     "output_type": "stream",
     "text": [
      "The result is large\n",
      "The result is large\n",
      "The result is large\n",
      "The result is large\n",
      "The result is large\n",
      "The result is large\n",
      "The result is large\n",
      "The result is large\n",
      "The result is large\n",
      "The result is large\n"
     ]
    }
   ],
   "source": [
    "n = 100\n",
    "for i in range(1,11):\n",
    "    quotient = n/i\n",
    "    if quotient > 5:\n",
    "        print(\"The result is large\")\n",
    "    elif quotient == 6:\n",
    "        continue\n",
    "    else:\n",
    "        print(\"quotient=\", quotient)"
   ]
  },
  {
   "cell_type": "markdown",
   "id": "8719cd43",
   "metadata": {},
   "source": [
    "Login Authentication\n",
    "\n",
    "- Create a dictonary named \"credentials\" with username as key and password as values.\n",
    "- Initialize the dictonary with three users: (username - user1, password - abc123), (username - admin, password - adminpass, username - guest, password - guest123)\n",
    "- Ask the user to enter a username and password.\n",
    "- If the username exists and the password matches, print (\"Login successful\")\n",
    "- If the username exists but the password is wrong, print (\"Incorrect password\")\n",
    "- If the username does not exist, print \"User not found\""
   ]
  },
  {
   "cell_type": "code",
   "execution_count": 4,
   "id": "54115595",
   "metadata": {},
   "outputs": [
    {
     "name": "stdout",
     "output_type": "stream",
     "text": [
      "Incorrect password\n"
     ]
    }
   ],
   "source": [
    "username = input(\"Enter username\")\n",
    "password = input(\"Enter password\")\n",
    "credentials = {\n",
    "    \"user1\": \"abc123\",\n",
    "    \"admin\": \"adminpass\",\n",
    "    \"guest\": \"guest123\"}\n",
    "if username in credentials:\n",
    "    if credentials[username] == password:\n",
    "        print(\"Login successful\")\n",
    "    else:\n",
    "        print(\"Incorrect password\")\n",
    "elif username not in credentials:\n",
    "        print(\"User not found\")"
   ]
  },
  {
   "cell_type": "code",
   "execution_count": 25,
   "id": "121d7300",
   "metadata": {},
   "outputs": [
    {
     "name": "stdout",
     "output_type": "stream",
     "text": [
      "* \n",
      "* * \n",
      "* * * \n",
      "* * * * \n",
      "* * * * * \n"
     ]
    }
   ],
   "source": [
    "stars = 5\n",
    "rows = 5\n",
    "for i in range(1, rows+1):\n",
    "    for j in range(i):\n",
    "        print(\"*\", end=\" \")\n",
    "    print() # Newline"
   ]
  },
  {
   "cell_type": "markdown",
   "id": "81a634fd",
   "metadata": {},
   "source": [
    "Shopping Cart Checkout\n",
    "\n",
    "Use initial variable total_bill=0\n",
    "Ask user to add price and add the price to total_bill\n",
    "If total_bill>1000, print (\"limit reached. You cannot buy anymore\" and break the loop)\n",
    "Otherwise, ask user to add price"
   ]
  },
  {
   "cell_type": "code",
   "execution_count": 29,
   "id": "04ce1e21",
   "metadata": {},
   "outputs": [
    {
     "name": "stdout",
     "output_type": "stream",
     "text": [
      "limit reached. You cannot buy anymore\n"
     ]
    }
   ],
   "source": [
    "total_bill = 0\n",
    "while True:\n",
    "    item_price = input(\"Enter item price to the total bill:\")\n",
    "    total_bill += int(item_price)\n",
    "    if total_bill >= 1000:\n",
    "        print(\"limit reached. You cannot buy anymore\")\n",
    "        break\n",
    "    else:\n",
    "        print(\"add price\")"
   ]
  }
 ],
 "metadata": {
  "kernelspec": {
   "display_name": "Python 3",
   "language": "python",
   "name": "python3"
  },
  "language_info": {
   "codemirror_mode": {
    "name": "ipython",
    "version": 3
   },
   "file_extension": ".py",
   "mimetype": "text/x-python",
   "name": "python",
   "nbconvert_exporter": "python",
   "pygments_lexer": "ipython3",
   "version": "3.12.6"
  }
 },
 "nbformat": 4,
 "nbformat_minor": 5
}
