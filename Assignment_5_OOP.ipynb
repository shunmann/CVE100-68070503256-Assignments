{
 "cells": [
  {
   "cell_type": "code",
   "execution_count": 5,
   "id": "d6b87274",
   "metadata": {},
   "outputs": [
    {
     "name": "stdout",
     "output_type": "stream",
     "text": [
      "Name: Alice, Age: 20\n",
      "Added Math mark: 85.\n",
      "Added Science mark: 90.\n",
      "Updated Math mark to 95.\n",
      "Marks:\n",
      "Math: 95\n",
      "Science: 90\n",
      "Average Score: 92.5\n"
     ]
    }
   ],
   "source": [
    "# Step 1: Parent Class - Person\n",
    "class Person:\n",
    "    def __init__(self, name, age):\n",
    "        self.name = name\n",
    "        self.age = age\n",
    "\n",
    "    def introduce(self):\n",
    "        print (f\"Name: {self.name}, Age: {self.age}\")\n",
    "\n",
    "# Step 2: Child Class - Student\n",
    "class Student(Person):\n",
    "    def __init__(self, name, age):\n",
    "        super().__init__(name, age)\n",
    "        self.marks = {}\n",
    "\n",
    "    def add_mark(self, subject, score):\n",
    "        if subject in self.marks:\n",
    "            self.marks[subject] = score\n",
    "            print(f\"Updated {subject} mark to {score}.\")\n",
    "        else:\n",
    "            self.marks[subject] = score\n",
    "            print(f\"Added {subject} mark: {score}.\")\n",
    "\n",
    "    def display_marks(self):\n",
    "        if not self.marks:\n",
    "            print(\"No marks available.\")\n",
    "        else:\n",
    "            print(\"Marks:\")\n",
    "            for subject, score in self.marks.items():\n",
    "                print(f\"{subject}: {score}\")\n",
    "\n",
    "    def average(self):\n",
    "        if not self.marks:\n",
    "            print(\"No marks to calculate average.\")\n",
    "            return 0\n",
    "        return sum(self.marks.values()) / len(self.marks)\n",
    "    \n",
    "    # Step 3: Main Program\n",
    "student1 = Student (\"Alice\", 20)\n",
    "student1.introduce()\n",
    "    \n",
    "student1.add_mark(\"Math\", 85)\n",
    "student1.add_mark(\"Science\", 90)\n",
    "student1.add_mark(\"Math\", 95)  \n",
    "\n",
    "student1.display_marks()\n",
    "print(f\"Average Score: {student1.average()}\")\n"
   ]
  }
 ],
 "metadata": {
  "kernelspec": {
   "display_name": "Python 3",
   "language": "python",
   "name": "python3"
  },
  "language_info": {
   "codemirror_mode": {
    "name": "ipython",
    "version": 3
   },
   "file_extension": ".py",
   "mimetype": "text/x-python",
   "name": "python",
   "nbconvert_exporter": "python",
   "pygments_lexer": "ipython3",
   "version": "3.12.6"
  }
 },
 "nbformat": 4,
 "nbformat_minor": 5
}
