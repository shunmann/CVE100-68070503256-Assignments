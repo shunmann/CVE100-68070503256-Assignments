{
  "nbformat": 4,
  "nbformat_minor": 0,
  "metadata": {
    "colab": {
      "provenance": [],
      "toc_visible": true
    },
    "kernelspec": {
      "name": "python3",
      "display_name": "Python 3"
    },
    "language_info": {
      "name": "python"
    }
  },
  "cells": [
    {
      "cell_type": "code",
      "execution_count": 2,
      "metadata": {
        "colab": {
          "base_uri": "https://localhost:8080/"
        },
        "id": "bgLMGV2P-pWH",
        "outputId": "03167e0a-af5d-4260-9bad-4a5d50e64507"
      },
      "outputs": [
        {
          "output_type": "stream",
          "name": "stdout",
          "text": [
            "Sum of first 3 positives: 12\n"
          ]
        }
      ],
      "source": [
        "# Expected Output:\n",
        "# Sum of first 3 positives: 12\n",
        "\n",
        "nums = [-1, 2, -5, 3, 7, -2, 4]\n",
        "count = 0\n",
        "total = 0\n",
        "\n",
        "for n in nums:\n",
        "    if n <= 0:\n",
        "        continue\n",
        "    total += n\n",
        "    count += 1\n",
        "    if count == 3:\n",
        "        break\n",
        "    else:\n",
        "        continue\n",
        "    #total = sum in range()\n",
        "\n",
        "print(\"Sum of first 3 positives:\", total)"
      ]
    },
    {
      "cell_type": "code",
      "source": [
        "# find the highest scoring player\n",
        "# Expected Output:\n",
        "# Winner: Cara\n",
        "players = [(\"Alice\", 15), (\"Bob\", 10), (\"Cara\", 20), (\"Dan\", 9)]\n",
        "winner = None\n",
        "best = -1\n",
        "\n",
        "for name, score in players:\n",
        "    if score > best:\n",
        "        best = score\n",
        "        winner = name\n",
        "\n",
        "print(\"Winner:\", winner)"
      ],
      "metadata": {
        "colab": {
          "base_uri": "https://localhost:8080/"
        },
        "id": "g_9Bz8qc_GDA",
        "outputId": "87b5ab46-a035-49c3-f312-7fe1f843d672"
      },
      "execution_count": 3,
      "outputs": [
        {
          "output_type": "stream",
          "name": "stdout",
          "text": [
            "Winner: Cara\n"
          ]
        }
      ]
    },
    {
      "cell_type": "code",
      "source": [
        "# Expected Output:\n",
        "# First positive multiple of 7: 7\n",
        "nums = [-14, -7, 0, 7, 14, 21, 28]\n",
        "first = None\n",
        "for n in nums:\n",
        "    if n > 0 and n % 7 == 0:\n",
        "        first = n\n",
        "        break\n",
        "\n",
        "if first is None:\n",
        "    print(\"None found\")\n",
        "else:\n",
        "    print(\"First positive multiple of 7:\", first)"
      ],
      "metadata": {
        "colab": {
          "base_uri": "https://localhost:8080/"
        },
        "id": "mFnCscKF_odT",
        "outputId": "36109efc-9999-4cef-d26b-d8d1581e1210"
      },
      "execution_count": 4,
      "outputs": [
        {
          "output_type": "stream",
          "name": "stdout",
          "text": [
            "First positive multiple of 7: 7\n"
          ]
        }
      ]
    },
    {
      "cell_type": "code",
      "source": [
        "# Expected Output:\n",
        "# mean=3.0 min=1 max=5\n",
        "\n",
        "def stats(nums):\n",
        "    mn = min(nums)\n",
        "    mx = max(nums)\n",
        "    avg = sum(nums)/len(nums)\n",
        "    return mn, mx, avg\n",
        "\n",
        "mn, mx, avg  = stats([1,2,3,4,5])\n",
        "print(f\"mean={avg} min={mn} max={mx}\")"
      ],
      "metadata": {
        "id": "AY7quxB6Bulg",
        "colab": {
          "base_uri": "https://localhost:8080/"
        },
        "outputId": "a07f92e1-970d-484f-d9ef-e12bd2abce9b"
      },
      "execution_count": 5,
      "outputs": [
        {
          "output_type": "stream",
          "name": "stdout",
          "text": [
            "mean=3.0 min=1 max=5\n"
          ]
        }
      ]
    },
    {
      "cell_type": "code",
      "source": [
        "# Expected Output: Random array of shape (2,3)\n",
        "import numpy\n",
        "a = numpy.random.random((2,3))  # wrong call\n",
        "print(a)"
      ],
      "metadata": {
        "id": "HXRmCSI8DVAa",
        "colab": {
          "base_uri": "https://localhost:8080/"
        },
        "outputId": "5cb8ad2a-560b-4fcf-ef57-b6edc32d3f9f"
      },
      "execution_count": 1,
      "outputs": [
        {
          "output_type": "stream",
          "name": "stdout",
          "text": [
            "[[0.25624306 0.15839929 0.94096596]\n",
            " [0.01263178 0.72616511 0.81473412]]\n"
          ]
        }
      ]
    },
    {
      "cell_type": "code",
      "source": [
        "# Expected Output: sqrt(16) = 4.0\n",
        "import numpy as np\n",
        "print(\"sqrt(16) =\", np.sqrt(16))"
      ],
      "metadata": {
        "collapsed": true,
        "id": "gX6tW-lBDhn_",
        "colab": {
          "base_uri": "https://localhost:8080/"
        },
        "outputId": "22bf610b-e638-4168-ea68-f79370be2259"
      },
      "execution_count": 6,
      "outputs": [
        {
          "output_type": "stream",
          "name": "stdout",
          "text": [
            "sqrt(16) = 4.0\n"
          ]
        }
      ]
    },
    {
      "cell_type": "code",
      "source": [
        "# Expected Output: 0.7071067811865476\n",
        "\n",
        "import math\n",
        "import numpy\n",
        "print(np.sin(math.pi / 4))"
      ],
      "metadata": {
        "id": "Jg4KYIhSDouW",
        "colab": {
          "base_uri": "https://localhost:8080/"
        },
        "outputId": "a77fa1ff-994d-4d0c-8ed6-8f5e43fb3719"
      },
      "execution_count": 7,
      "outputs": [
        {
          "output_type": "stream",
          "name": "stdout",
          "text": [
            "0.7071067811865475\n"
          ]
        }
      ]
    },
    {
      "cell_type": "code",
      "source": [
        "# Expected Output: Mean = 3.0\n",
        "import numpy as np\n",
        "arr = np.array([1, 2, 3, 4, 5])\n",
        "mean = np.sum(arr) / np.size(arr)\n",
        "print(\"Mean =\", mean)\n"
      ],
      "metadata": {
        "colab": {
          "base_uri": "https://localhost:8080/"
        },
        "id": "AsaiYN8PDyfe",
        "outputId": "fa7409c0-0699-41d7-8b93-efeb11f3bdec"
      },
      "execution_count": 8,
      "outputs": [
        {
          "output_type": "stream",
          "name": "stdout",
          "text": [
            "Mean = 3.0\n"
          ]
        }
      ]
    },
    {
      "cell_type": "code",
      "source": [
        "# Expected Output:\n",
        "# Aye 25\n",
        "class Person:\n",
        "    def __init__(self, name, age):\n",
        "        self.name = name\n",
        "        self.age = age\n",
        "\n",
        "p = Person(\"Aye\", 25)\n",
        "print(p.name, p.age)\n"
      ],
      "metadata": {
        "id": "kb42Oi8IEjjq",
        "colab": {
          "base_uri": "https://localhost:8080/"
        },
        "outputId": "92216b49-ab91-4956-b088-582c7e4cea4b"
      },
      "execution_count": 9,
      "outputs": [
        {
          "output_type": "stream",
          "name": "stdout",
          "text": [
            "Aye 25\n"
          ]
        }
      ]
    },
    {
      "cell_type": "code",
      "source": [
        "# Expected Output:\n",
        "# 50000\n",
        "class Employee:\n",
        "    def __init__(self, salary):\n",
        "        self.__salary = salary\n",
        "\n",
        "    def get_salary(self):\n",
        "        return self.__salary\n",
        "\n",
        "e = Employee(50000)\n",
        "print(e.get_salary())\n"
      ],
      "metadata": {
        "id": "eCULBxn7FWmb",
        "colab": {
          "base_uri": "https://localhost:8080/"
        },
        "outputId": "c1fa15de-aeba-4db3-8c96-043feafb5ead"
      },
      "execution_count": 10,
      "outputs": [
        {
          "output_type": "stream",
          "name": "stdout",
          "text": [
            "50000\n"
          ]
        }
      ]
    },
    {
      "cell_type": "code",
      "source": [
        "# Expected Output:\n",
        "# Brand: Toyota, Engine: 2000\n",
        "class Vehicle:\n",
        "    def __init__(self, brand):\n",
        "        self.brand = brand\n",
        "\n",
        "class Car(Vehicle):\n",
        "    def __init__(self, brand, engine):\n",
        "        self.engine = engine\n",
        "        super().__init__(brand)\n",
        "\n",
        "c = Car(\"Toyota\", 2000)\n",
        "print(f\"Brand: {c.brand}, Engine: {c.engine}\")"
      ],
      "metadata": {
        "id": "y_SJZvylFmXT",
        "colab": {
          "base_uri": "https://localhost:8080/"
        },
        "outputId": "faa48fb9-537b-4860-d189-55b7e0776f83"
      },
      "execution_count": 11,
      "outputs": [
        {
          "output_type": "stream",
          "name": "stdout",
          "text": [
            "Brand: Toyota, Engine: 2000\n"
          ]
        }
      ]
    },
    {
      "cell_type": "code",
      "source": [
        "# Expected Output:\n",
        "# Area: 12.56\n",
        "import math\n",
        "\n",
        "class Shape:\n",
        "    def area(self):\n",
        "        pass\n",
        "\n",
        "class Circle(Shape):\n",
        "    def area(self,radius):\n",
        "        return math.pi * radius ** 2\n",
        "\n",
        "c = Circle()\n",
        "print(\"Area:\", c.area(2))"
      ],
      "metadata": {
        "id": "VZQ3DDbsHWC4",
        "colab": {
          "base_uri": "https://localhost:8080/"
        },
        "outputId": "1310a5df-0f83-40bb-dea3-d95c41c1843b"
      },
      "execution_count": 12,
      "outputs": [
        {
          "output_type": "stream",
          "name": "stdout",
          "text": [
            "Area: 12.566370614359172\n"
          ]
        }
      ]
    },
    {
      "cell_type": "code",
      "source": [
        "from google.colab import drive\n",
        "drive.mount('/content/drive')"
      ],
      "metadata": {
        "id": "0mq_bW2o1wsw"
      },
      "execution_count": null,
      "outputs": []
    }
  ]
}